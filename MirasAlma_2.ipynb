{
  "nbformat": 4,
  "nbformat_minor": 0,
  "metadata": {
    "colab": {
      "provenance": [],
      "authorship_tag": "ABX9TyNg/YqWHTXKm9hrk9sU7S+5",
      "include_colab_link": true
    },
    "kernelspec": {
      "name": "python3",
      "display_name": "Python 3"
    },
    "language_info": {
      "name": "python"
    }
  },
  "cells": [
    {
      "cell_type": "markdown",
      "metadata": {
        "id": "view-in-github",
        "colab_type": "text"
      },
      "source": [
        "<a href=\"https://colab.research.google.com/github/aSahin0/Python-OOP/blob/main/MirasAlma_2.ipynb\" target=\"_parent\"><img src=\"https://colab.research.google.com/assets/colab-badge.svg\" alt=\"Open In Colab\"/></a>"
      ]
    },
    {
      "cell_type": "code",
      "execution_count": 4,
      "metadata": {
        "id": "gE9wc8FwZk7I"
      },
      "outputs": [],
      "source": [
        "class Hayvan:\n",
        "  def __init__(self,isim):\n",
        "    self.isim = isim\n",
        "\n",
        "\n",
        "  def voice():\n",
        "    pass\n",
        "\n",
        "class Kedi(Hayvan):\n",
        "  def ses_cikar(self):\n",
        "    return f'{self.isim} miyav dedi.'\n",
        "\n",
        "class Kopek(Hayvan):\n",
        "  def ses_cikar(self):\n",
        "    return f'{self.isim} hav hav dedi.'\n"
      ]
    },
    {
      "cell_type": "code",
      "source": [
        "minnos = Kedi(\"Minnos\")\n",
        "biber = Kopek(\"Biber\")\n",
        "print(minnos.ses_cikar())\n",
        "print(biber.ses_cikar())"
      ],
      "metadata": {
        "colab": {
          "base_uri": "https://localhost:8080/"
        },
        "id": "qvuk7JULxdQt",
        "outputId": "2565a187-cbc7-467c-a5fe-f40431fa45b3"
      },
      "execution_count": 5,
      "outputs": [
        {
          "output_type": "stream",
          "name": "stdout",
          "text": [
            "Minnos miyav dedi.\n",
            "Biber hav hav dedi.\n"
          ]
        }
      ]
    }
  ]
}