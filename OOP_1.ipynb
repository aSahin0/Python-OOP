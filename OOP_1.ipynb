{
  "nbformat": 4,
  "nbformat_minor": 0,
  "metadata": {
    "colab": {
      "provenance": []
    },
    "kernelspec": {
      "name": "python3",
      "display_name": "Python 3"
    },
    "language_info": {
      "name": "python"
    }
  },
  "cells": [
    {
      "cell_type": "code",
      "source": [
        "class Kitap:\n",
        "  def __init__(self,isim,yazar):\n",
        "    self.isim = isim\n",
        "    self.yazar = yazar\n",
        "  def kitap_bilgilerini_goster(self):\n",
        "    print(f\"Kitap ismi : {self.isim} \\nYazar : {self.yazar}\")\n",
        "\n",
        "kitap1 = Kitap(\"Python\",\"Ali\")\n",
        "print(kitap1)\n",
        "kitap1.kitap_bilgilerini_goster()"
      ],
      "metadata": {
        "colab": {
          "base_uri": "https://localhost:8080/"
        },
        "id": "ckKkN0lEI_ui",
        "outputId": "8f62392b-f0c4-4671-8da0-f98fbea25377"
      },
      "execution_count": 3,
      "outputs": [
        {
          "output_type": "stream",
          "name": "stdout",
          "text": [
            "<__main__.Kitap object at 0x7b46efb17810>\n",
            "Kitap ismi : Python \n",
            "Yazar : Ali\n"
          ]
        }
      ]
    },
    {
      "cell_type": "code",
      "source": [
        "class Araba:\n",
        "  def __init__(self,marka,model):\n",
        "    self.marka = marka\n",
        "    self.model = model\n",
        "\n",
        "  def bilgileri_goster(self):\n",
        "    print(f'Marka: {self.marka} Model: {self.model}')\n",
        "\n",
        "  def __str__(self):\n",
        "    return f'Marka: {self.marka} Model: {self.model}'\n",
        "\n",
        "\n",
        "araba1 = Araba(\"Toyota\",\"Corolla\")\n",
        "araba2 = Araba(\"Renault\",\"Clio\")\n",
        "\n",
        "print(araba1)\n",
        "print(araba2)\n",
        "\n",
        "# araba1.bilgileri_goster()\n",
        "# araba2.bilgileri_goster()"
      ],
      "metadata": {
        "colab": {
          "base_uri": "https://localhost:8080/"
        },
        "id": "PUh5hlwALGqB",
        "outputId": "c3d4043b-76fc-450a-8c8e-625a8e5608ca"
      },
      "execution_count": 7,
      "outputs": [
        {
          "output_type": "stream",
          "name": "stdout",
          "text": [
            "Marka: Toyota Model: Corolla\n",
            "Marka: Renault Model: Clio\n"
          ]
        }
      ]
    },
    {
      "cell_type": "code",
      "source": [
        "class Araba:\n",
        "  def __init__(self,marka,model):\n",
        "    self.marka = marka\n",
        "    self.model = model\n",
        "\n",
        "  def bilgileri_goster(self):\n",
        "    print(f'Marka: {self.marka} Model: {self.model}')\n",
        "\n",
        "araba1 = Araba(\"Toyota\",\"Corolla\")\n",
        "araba2 = Araba(\"Renault\",\"Clio\")\n",
        "\n",
        "araba1.bilgileri_goster()\n",
        "araba2.bilgileri_goster()"
      ],
      "metadata": {
        "colab": {
          "base_uri": "https://localhost:8080/"
        },
        "id": "Rb9nHHTKOQye",
        "outputId": "58e9c841-e82c-4b3a-999a-4e99239591eb"
      },
      "execution_count": 10,
      "outputs": [
        {
          "output_type": "stream",
          "name": "stdout",
          "text": [
            "Marka: Toyota Model: Corolla\n",
            "Marka: Renault Model: Clio\n"
          ]
        }
      ]
    },
    {
      "cell_type": "code",
      "source": [
        "print(araba1.marka)\n",
        "print(araba2.model)\n"
      ],
      "metadata": {
        "colab": {
          "base_uri": "https://localhost:8080/"
        },
        "id": "J-AmL2uvOaax",
        "outputId": "653ccb3c-42fa-44d3-b297-4ab0405df507"
      },
      "execution_count": 14,
      "outputs": [
        {
          "output_type": "stream",
          "name": "stdout",
          "text": [
            "Toyota\n",
            "Clio\n"
          ]
        }
      ]
    },
    {
      "cell_type": "code",
      "source": [
        "araba2.model = \"X5\"\n",
        "araba2.bilgileri_goster()"
      ],
      "metadata": {
        "colab": {
          "base_uri": "https://localhost:8080/"
        },
        "id": "eqAZqfPZOoRa",
        "outputId": "39790bb6-837b-4aff-8812-200de4dcb42a"
      },
      "execution_count": 15,
      "outputs": [
        {
          "output_type": "stream",
          "name": "stdout",
          "text": [
            "Marka: Renault Model: X5\n"
          ]
        }
      ]
    },
    {
      "cell_type": "code",
      "source": [
        "del araba2.model\n",
        "araba2.bilgileri_goster()"
      ],
      "metadata": {
        "colab": {
          "base_uri": "https://localhost:8080/",
          "height": 158
        },
        "collapsed": true,
        "id": "LUTifRojOtKz",
        "outputId": "8827628a-f29b-4a31-ac37-951e291f3256"
      },
      "execution_count": 17,
      "outputs": [
        {
          "output_type": "error",
          "ename": "AttributeError",
          "evalue": "'Araba' object has no attribute 'model'",
          "traceback": [
            "\u001b[0;31m---------------------------------------------------------------------------\u001b[0m",
            "\u001b[0;31mAttributeError\u001b[0m                            Traceback (most recent call last)",
            "\u001b[0;32m<ipython-input-17-ef991a64c327>\u001b[0m in \u001b[0;36m<cell line: 0>\u001b[0;34m()\u001b[0m\n\u001b[0;32m----> 1\u001b[0;31m \u001b[0;32mdel\u001b[0m \u001b[0maraba2\u001b[0m\u001b[0;34m.\u001b[0m\u001b[0mmodel\u001b[0m\u001b[0;34m\u001b[0m\u001b[0;34m\u001b[0m\u001b[0m\n\u001b[0m\u001b[1;32m      2\u001b[0m \u001b[0maraba2\u001b[0m\u001b[0;34m.\u001b[0m\u001b[0mbilgileri_goster\u001b[0m\u001b[0;34m(\u001b[0m\u001b[0;34m)\u001b[0m\u001b[0;34m\u001b[0m\u001b[0;34m\u001b[0m\u001b[0m\n",
            "\u001b[0;31mAttributeError\u001b[0m: 'Araba' object has no attribute 'model'"
          ]
        }
      ]
    }
  ]
}