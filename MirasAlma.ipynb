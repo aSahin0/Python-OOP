{
  "nbformat": 4,
  "nbformat_minor": 0,
  "metadata": {
    "colab": {
      "provenance": [],
      "authorship_tag": "ABX9TyO9QOtXOVDXKoge9DEYhGp2",
      "include_colab_link": true
    },
    "kernelspec": {
      "name": "python3",
      "display_name": "Python 3"
    },
    "language_info": {
      "name": "python"
    }
  },
  "cells": [
    {
      "cell_type": "markdown",
      "metadata": {
        "id": "view-in-github",
        "colab_type": "text"
      },
      "source": [
        "<a href=\"https://colab.research.google.com/github/aSahin0/Python-OOP/blob/main/MirasAlma.ipynb\" target=\"_parent\"><img src=\"https://colab.research.google.com/assets/colab-badge.svg\" alt=\"Open In Colab\"/></a>"
      ]
    },
    {
      "cell_type": "code",
      "execution_count": 10,
      "metadata": {
        "colab": {
          "base_uri": "https://localhost:8080/"
        },
        "collapsed": true,
        "id": "wwGcmZ-hU7yI",
        "outputId": "7f92112c-d3dc-4a99-9617-47a5dcef5285"
      },
      "outputs": [
        {
          "output_type": "stream",
          "name": "stdout",
          "text": [
            "Name: Ali\n",
            "Surname: Yilmaz\n",
            "Mail: ali@gmail.com\n",
            "Name: Ahmet\n",
            "Surname: Sahin\n",
            "Mail: asahin@gmail.com\n",
            "Discount: 10\n"
          ]
        }
      ],
      "source": [
        "class Customer:\n",
        "  def __init__(self,name,surname,mail):\n",
        "    self.name = name\n",
        "    self.surname = surname\n",
        "    self.mail = mail\n",
        "\n",
        "  def infoShow(self):\n",
        "    print(f\"Name: {self.name}\\nSurname: {self.surname}\\nMail: {self.mail}\")\n",
        "\n",
        "class PremiumCustomer(Customer):\n",
        "  def __init__(self,name,surname,mail,discount):\n",
        "    super().__init__(name,surname,mail)\n",
        "    self.discount = discount\n",
        "\n",
        "  def infoShow(self):\n",
        "    super().infoShow()\n",
        "    print(f'Discount: {self.discount}')\n",
        "\n",
        "customer1 = Customer(\"Ali\",\"Yilmaz\",\"ali@gmail.com\")\n",
        "customer1.infoShow()\n",
        "\n",
        "vipcustomer = PremiumCustomer(\"Ahmet\",\"Sahin\",\"asahin@gmail.com\",10)\n",
        "vipcustomer.infoShow()"
      ]
    },
    {
      "cell_type": "code",
      "source": [],
      "metadata": {
        "id": "MXjfAIXmWFvo"
      },
      "execution_count": null,
      "outputs": []
    }
  ]
}