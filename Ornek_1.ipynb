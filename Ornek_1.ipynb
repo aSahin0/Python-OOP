{
  "nbformat": 4,
  "nbformat_minor": 0,
  "metadata": {
    "colab": {
      "provenance": [],
      "authorship_tag": "ABX9TyPgBUlNg942JsOivimYngV4",
      "include_colab_link": true
    },
    "kernelspec": {
      "name": "python3",
      "display_name": "Python 3"
    },
    "language_info": {
      "name": "python"
    }
  },
  "cells": [
    {
      "cell_type": "markdown",
      "metadata": {
        "id": "view-in-github",
        "colab_type": "text"
      },
      "source": [
        "<a href=\"https://colab.research.google.com/github/aSahin0/Python-OOP/blob/main/Ornek_1.ipynb\" target=\"_parent\"><img src=\"https://colab.research.google.com/assets/colab-badge.svg\" alt=\"Open In Colab\"/></a>"
      ]
    },
    {
      "cell_type": "code",
      "execution_count": 176,
      "metadata": {
        "id": "2PwzT_RWyC7a"
      },
      "outputs": [],
      "source": [
        "import json\n",
        "class Musteri:\n",
        "  def __init__(self,ad,soyad,email):\n",
        "    self.ad = ad\n",
        "    self.soyad = soyad\n",
        "    self.email = email\n",
        "\n",
        "  def email_guncelle(self,yeni_email):\n",
        "      self.email = yeni_email\n",
        "\n",
        "class MusteriPaneli:\n",
        "  def __init__(self,dosya_adi):\n",
        "    self.dosya_adi = dosya_adi\n",
        "    self.musteriler = self.verileri_oku()\n",
        "\n",
        "  def musteri_ekle(self,musteri):\n",
        "    self.musteriler.append(musteri)\n",
        "    self.verileri_guncelle()\n",
        "\n",
        "  def verileri_guncelle(self): #json\n",
        "    with open(self.dosya_adi,\"w\") as dosya:\n",
        "      yazdir = [vars(musteri) for musteri in self.musteriler]\n",
        "      json.dump(yazdir,dosya)\n",
        "\n",
        "  def verileri_oku(self): #json\n",
        "    try:\n",
        "      with open(self.dosya_adi,\"r\") as dosya:\n",
        "        okunanlar = json.load(dosya)\n",
        "        return okunanlar\n",
        "    except FileNotFoundError:\n",
        "      return []\n",
        "\n",
        "  def musteri_listele(self):\n",
        "    for musteri in self.musteriler:\n",
        "      print(f\"Ad Soyad {musteri.ad} {musteri.soyad} email: {musteri.email}\")\n",
        "\n",
        "  def musteri_bul(self, ad, soyad):\n",
        "    for musteri in self.musteriler:\n",
        "      if musteri.ad == ad and musteri.soyad == soyad:\n",
        "        return musteri\n",
        "    return None\n"
      ]
    },
    {
      "cell_type": "code",
      "source": [
        "musteri1 = Musteri(\"Ali\",\"Yilmaz\",\"ali@gmail.com\")\n",
        "musteri2 = Musteri(\"Veli\",\"Turan\",\"veli@gmail.com\")\n",
        "musteri3 = Musteri(\"Ayse\",\"Kaya\",\"ayse@gmail.com\")\n",
        "yonetimpanelim = MusteriPaneli(\"musteriler.json\")\n",
        "\n",
        "yonetimpanelim.musteri_ekle(musteri1)\n",
        "yonetimpanelim.musteri_ekle(musteri2)\n",
        "yonetimpanelim.musteri_ekle(musteri3)\n",
        "\n",
        "yonetimpanelim.musteri_listele()\n",
        "\n",
        "print(yonetimpanelim.verileri_oku())"
      ],
      "metadata": {
        "colab": {
          "base_uri": "https://localhost:8080/"
        },
        "id": "DCkCH7WF7-MQ",
        "outputId": "ba13e86a-5c90-424c-ed7a-3f2733560239"
      },
      "execution_count": 177,
      "outputs": [
        {
          "output_type": "stream",
          "name": "stdout",
          "text": [
            "Ad Soyad Ali Yilmaz email: ali@gmail.com\n",
            "Ad Soyad Veli Turan email: veli@gmail.com\n",
            "Ad Soyad Ayse Kaya email: ayse@gmail.com\n",
            "[{'ad': 'Ali', 'soyad': 'Yilmaz', 'email': 'ali@gmail.com'}, {'ad': 'Veli', 'soyad': 'Turan', 'email': 'veli@gmail.com'}, {'ad': 'Ayse', 'soyad': 'Kaya', 'email': 'ayse@gmail.com'}]\n"
          ]
        }
      ]
    },
    {
      "cell_type": "code",
      "source": [
        "aranan_musteri = yonetimpanelim.musteri_bul(\"Veli\",\"Turan\")\n",
        "if aranan_musteri:\n",
        "  aranan_musteri.email_guncelle(\"veliyeni@gmail.com\")\n",
        "  yonetimpanelim.verileri_guncelle()\n",
        "  print(yonetimpanelim.verileri_oku())"
      ],
      "metadata": {
        "colab": {
          "base_uri": "https://localhost:8080/"
        },
        "id": "vWL298HE8hCT",
        "outputId": "753b5f97-b3f3-4618-8d86-ae9f178d1b77"
      },
      "execution_count": 178,
      "outputs": [
        {
          "output_type": "stream",
          "name": "stdout",
          "text": [
            "[{'ad': 'Ali', 'soyad': 'Yilmaz', 'email': 'ali@gmail.com'}, {'ad': 'Veli', 'soyad': 'Turan', 'email': 'veliyeni@gmail.com'}, {'ad': 'Ayse', 'soyad': 'Kaya', 'email': 'ayse@gmail.com'}]\n"
          ]
        }
      ]
    }
  ]
}