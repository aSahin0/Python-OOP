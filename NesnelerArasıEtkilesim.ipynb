{
  "nbformat": 4,
  "nbformat_minor": 0,
  "metadata": {
    "colab": {
      "provenance": [],
      "authorship_tag": "ABX9TyPjJEkcJGfdOcW+PX5xYaCd",
      "include_colab_link": true
    },
    "kernelspec": {
      "name": "python3",
      "display_name": "Python 3"
    },
    "language_info": {
      "name": "python"
    }
  },
  "cells": [
    {
      "cell_type": "markdown",
      "metadata": {
        "id": "view-in-github",
        "colab_type": "text"
      },
      "source": [
        "<a href=\"https://colab.research.google.com/github/aSahin0/Python-OOP/blob/main/NesnelerAras%C4%B1Etkilesim.ipynb\" target=\"_parent\"><img src=\"https://colab.research.google.com/assets/colab-badge.svg\" alt=\"Open In Colab\"/></a>"
      ]
    },
    {
      "cell_type": "code",
      "execution_count": 14,
      "metadata": {
        "collapsed": true,
        "id": "JUJmjqF-Qwv8"
      },
      "outputs": [],
      "source": [
        "class kisiler:\n",
        "  def __init__(self,name,surname):\n",
        "    self.name = name\n",
        "    self.surname = surname\n",
        "    self.tum_siparisler = []\n",
        "  def infoBack(self):\n",
        "    return f'Name: {self.name} Surname: {self.surname}'\n",
        "\n",
        "  def siparis_ekle(self,siparis):\n",
        "    self.tum_siparisler.append(siparis)\n",
        "\n",
        "  def siparisleri_goster(self):\n",
        "    for siparis in self.tum_siparisler:\n",
        "      print(siparis.bilgileri_goster())\n",
        "\n",
        "class siparisler:\n",
        "  def __init__(self,isim,miktar):\n",
        "    self.isim = isim\n",
        "    self.miktar = miktar\n",
        "\n",
        "  def infoBack(self):\n",
        "    return f'İsim: {self.isim} Miktar: {self.miktar}'\n",
        "\n"
      ]
    },
    {
      "cell_type": "code",
      "source": [
        "kisi1 = kisiler(\"Ali\",\"Yilmaz\")\n",
        "kisi_1_bilgileri = kisi1.infoBack()\n",
        "print(kisi_1_bilgileri)\n",
        "\n",
        "siparis1 = siparisler(\"Bilgisayar\",2)\n",
        "siparis2 = siparisler(\"Telefon\",3)\n",
        "siparis_1=siparis1.infoBack()\n",
        "siparis_2=siparis2.infoBack()\n",
        "print(siparis_1)\n",
        "print(siparis_2)\n",
        "\n",
        "kisi1.siparis_ekle(siparis1)\n",
        "kisi1.siparis_ekle(siparis2)\n"
      ],
      "metadata": {
        "collapsed": true,
        "colab": {
          "base_uri": "https://localhost:8080/"
        },
        "id": "nPOvBkiMTxA7",
        "outputId": "61aed14e-ff62-4de4-a284-b6d0b677ab6c"
      },
      "execution_count": 16,
      "outputs": [
        {
          "output_type": "stream",
          "name": "stdout",
          "text": [
            "Name: Ali Surname: Yilmaz\n",
            "İsim: Bilgisayar Miktar: 2\n",
            "İsim: Telefon Miktar: 3\n"
          ]
        }
      ]
    }
  ]
}